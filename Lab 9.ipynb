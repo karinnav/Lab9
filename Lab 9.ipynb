{
 "cells": [
  {
   "cell_type": "markdown",
   "metadata": {},
   "source": [
    "# Lab 9"
   ]
  },
  {
   "cell_type": "markdown",
   "metadata": {},
   "source": [
    "**Lab 8 Genome Assembly:**  \n",
    "For Lab 8, I rand SPAdes to assemble a bacterial genome *de novo.* The illumina and pac bio reads were available through the server.  I ran the following function in the terminal:\n",
    "\n",
    "spades.py -t 1 -1 data/lab8/illumina_reads_R1.fastq -2 data/lab8/illumina_reads_R2.fastq --pacbio data/lab8/pacbio_reads.fastq -o spades_output\n",
    "\n",
    "This process took roughly 16 hours to complete."
   ]
  },
  {
   "cell_type": "markdown",
   "metadata": {},
   "source": [
    "**Generate assembly statistics:**  \n",
    "After the bacterial genome was assembled using SPAdes, the output directory contained a file for both contigs and scaffolds.  I applied assembly-stats to both these files in the terminal.  \n",
    "\n",
    "*Input:*  \n",
    "assembly-stats spades_output/contigs.fasta spades_output/scaffolds.fasta\n",
    "\n",
    "*Output:*  \n",
    "stats for spades_output/contigs.fasta  \n",
    "sum = 6678635, n = 176, ave = 37946.79, largest = 414008  \n",
    "N50 = 234690, n = 11  \n",
    "N60 = 202142, n = 14  \n",
    "N70 = 154232, n = 18  \n",
    "N80 = 103367, n = 23  \n",
    "N90 = 81286, n = 30  \n",
    "N100 = 128, n = 176  \n",
    "N_count = 0  \n",
    "Gaps = 0  \n",
    "  \n",
    "stats for spades_output/scaffolds.fasta  \n",
    "sum = 6678655, n = 174, ave = 38383.07, largest = 414008  \n",
    "N50 = 234690, n = 11  \n",
    "N60 = 202142, n = 14  \n",
    "N70 = 154232, n = 18  \n",
    "N80 = 103367, n = 23  \n",
    "N90 = 81821, n = 30  \n",
    "N100 = 128, n = 174  \n",
    "N_count = 20  \n",
    "Gaps = 2  \n",
    "\n",
    "\n",
    "**Section Questions:**  \n",
    "Length of contigs (or scaffolds):6678635 (6678655)  \n",
    "Number of contigs (or scaffolds):176 (174)    \n",
    "N50: 234690  \n",
    "\n",
    "*Why is N50 is useful statistic to calculate? Why not just list the mean or median contig length?\n",
    "In your assembly, are scaffolds longer than contigs, or are scaffolds approximately equal to \n",
    "contigs?*  \n",
    "N50 is a useful statistic because shorter contigs are not very useful.  Thus, N50 is useful because it gives more weight to longer contigs when calculating a mean or median length.  In my assembly, contigs and scaffolds are roughly the same length.        \n"
   ]
  },
  {
   "cell_type": "markdown",
   "metadata": {},
   "source": [
    "**Identify the taxon from which your genome originated:**\n",
    "I used *rna_hmm3.py* to identify the copies of 16S rRNA genes in the genome using the following terminal command:  \n",
    "rna_hmm3.py -i spades_output/contigs.fasta -o spades_output/rRNAgenes\n",
    "\n",
    "Then, in order to extract the sequences of these genes in fasta format, I used the bedtools getfasta program:  \n",
    "bedtools getfasta -fi spades_output/contigs.fasta -bed spades_output/rRNAgenes\n",
    "\n",
    "where rRNA genes was the output from the rna_hmm3.py program.\n",
    "\n",
    "Afterward, I compared these genes to a database of known 16s rRNA genes.  I uploaded the resulting fasta file to Ribosomal Database Project’s SeqMatch tool.  \n",
    "*Output:*\n",
    "<img src=\"files/SeqMatch.png\">\n",
    "\n",
    "**Section Questions:**  \n",
    "*You may not be able to obtain a “species”-level identification, but please write down your genus-level identification in your iPython notebook along with an explanation for how you came to this conclusion.*  \n",
    "Acoording to my output I believe the genus-level identification of my genome is Pseudomonas.  I came to this conclusion because the most sequences match results from the database were species under this genus.  There were other matches to another domain, Fungi, but the match was not close enough to determine possible genera within this domain.    "
   ]
  },
  {
   "cell_type": "markdown",
   "metadata": {},
   "source": [
    "**Genome annotation:**  \n",
    "I uploaded my genome to two remote annotation services in order to analyze the types of genes it contains and tp organize this information.  The annotation services I used were called RAST and BASys.  \n",
    "\n",
    "Outputs of RAST and BASys are included in directory.\n",
    "\n",
    "RAST graphical interpretation:\n",
    "<img src=\"files/RASTresults.png\">"
   ]
  },
  {
   "cell_type": "markdown",
   "metadata": {},
   "source": [
    "**Research and Write-Up:**  \n",
    "    Using the RAST annotation system, I was able to identify subsystems of genes within my assembled Pseudomonas genome.  One significant subsystem annotated in this genome was “Stress Response.” More than half of the genes under “Stress Response” were related to oxidative stress.  Oxidative stress describes the imbalance of oxidant production to antioxidant production in the cell.  Often, oxidative stress involves a level of harmful reactive oxygen species (ROS) production that is higher than the cell is able to remove or degrade.  RAST attributes high oxidative stress genes in the genome to a known defense mechanism of pathogenic bacterial species.  Hosts often use ROS to kill pathogenic bacteria, but since they have the adaptive qualities to manage oxidative stress, they are usually able to overcome this attack.  The adaptive quality of Pseudomonas under oxidative stress has been investigated in recent studies.  According to Akkaya et al., 2018, the redox state of a Psuedomonas species can enable it to adopt new catabolic pathways and regulate its mutation frequency.  This paper describes one way Pseudomonas manages oxidative stress which is to evolve toward new forms of metabolism.  \n",
    "\n",
    "  The effect of oxidative stress on Pseudomonas has also been investigated in the context of biofilms.  According to Xu et al., 2018, the accumulation of ROS in a Pseudomonas species perturbs the quorum sensing system and enhances biofilm formation.  Thus, this study proposes the use of oxygen containing nanoparticles as a way to control biofilm production.  A small number of genes related to Biofilm Adhesin Biosynthesis was found in the RAST profile.  These genes were contained under subsystem “Regulation and Cell Signaling,” which contained a significant number of total genes but only few related to biofilms.  It is interesting how over 60 genes in Pseudomonas are related to oxidative stress, but only four genes are related to biofilm production.  It appears that overproduction of biofilms is a by-product of when Pseudomonas species are unable to manage oxidative stress, as when treated with nanoparticles.  The low number of biofilm genes in the RAST profile supports the fact that Pseudomonas does not have a strong defense system to regulate its biofilm production levels.  These studies draw an interesting connection between two subsystems in the RAST profile of my assembled genome.\n",
    "  \n",
    "*Citations:*  \n",
    "-Akkaya Ö, Pérez-Pantoja DR, Calles B, Nikel PI, de Lorenzo V. 2018. The metabolic redox regime of Pseudomonas putida tunes its evolvability toward novel xenobiotic substrates. mBio 9:e01512-18. https://doi.org/10.1128/mBio.01512-18.\n",
    "\n",
    "-Xu Y, Wang C, Hou J, Wang P, You G, Miao L. 2018. Mechanistic understanding of cerium oxide nanoparticle-mediated biofilm formation in Psuedomonas aeruginosa. Environ Sci Pollut Rest Int.  http://doi: 10.1007/s11356-018-3418-8\n"
   ]
  },
  {
   "cell_type": "code",
   "execution_count": null,
   "metadata": {},
   "outputs": [],
   "source": []
  }
 ],
 "metadata": {
  "kernelspec": {
   "display_name": "Python 2",
   "language": "python",
   "name": "python2"
  },
  "language_info": {
   "codemirror_mode": {
    "name": "ipython",
    "version": 2
   },
   "file_extension": ".py",
   "mimetype": "text/x-python",
   "name": "python",
   "nbconvert_exporter": "python",
   "pygments_lexer": "ipython2",
   "version": "2.7.15"
  }
 },
 "nbformat": 4,
 "nbformat_minor": 2
}
